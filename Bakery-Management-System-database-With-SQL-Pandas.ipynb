{
 "cells": [
  {
   "cell_type": "markdown",
   "id": "113e317a",
   "metadata": {},
   "source": [
    "   # Python Interview Question for Bakery Management System With Sql"
   ]
  },
  {
   "cell_type": "code",
   "execution_count": 1,
   "id": "d66a937d",
   "metadata": {},
   "outputs": [],
   "source": [
    "import sqlite3"
   ]
  },
  {
   "cell_type": "code",
   "execution_count": 2,
   "id": "7a292723",
   "metadata": {},
   "outputs": [],
   "source": [
    "# Create database connnection\n",
    "conn = sqlite3.connect('bakery.db')\n",
    "\n",
    "#Create Cursor\n",
    "c = conn.cursor()\n",
    "\n",
    "#Create table \n",
    "c.execute('''\n",
    "        CREATE TABLE system_users(User_Name TEXT, \n",
    "        Id INTEGER PRIMERY KEY,\n",
    "        Order_item TEXT,\n",
    "        Mobile_Num INTEGER)''')\n",
    "# Insert Data Into Table\n",
    "c.execute(\"INSERT INTO system_users VALUES ('Rahul Patil', 1, 'Raspberry chocolate cupcakes', 123545685)\")\n",
    "c.execute(\"INSERT INTO system_users VALUES ('Shubham Koli', 2, 'Rose cupcakes', 12354685)\")\n",
    "c.execute(\"INSERT INTO system_users VALUES ('Vinita Mahajan', 3, 'Irish coffee macarons', 12354545)\")\n",
    "c.execute(\"INSERT INTO system_users VALUES ('Vitthal Patil', 4, 'Braided Easter bread', 12554685)\")\n",
    "c.execute(\"INSERT INTO system_users VALUES ('Prity Patel', 5, 'peanut butter chocolate cookies', 12574498)\")\n",
    "c.execute(\"INSERT INTO system_users VALUES ('Aarati Sinde', 6, 'Quick apple cake', 4258498)\")\n",
    "c.execute(\"INSERT INTO system_users VALUES ('Yash Jagatap', 7, 'American apple pie', 4234258498)\")\n",
    "c.execute(\"INSERT INTO system_users VALUES ('Dhanush Patil', 8, 'Blueberry muffins', 8745933254)\")\n",
    "# Commit the changes in database\n",
    "conn.commit()\n",
    "\n",
    "#Close the database connection\n",
    "conn.close()"
   ]
  },
  {
   "cell_type": "code",
   "execution_count": 3,
   "id": "b4d781b1",
   "metadata": {},
   "outputs": [
    {
     "name": "stdout",
     "output_type": "stream",
     "text": [
      "('Rahul Patil', 1, 'Raspberry chocolate cupcakes', 123545685)\n",
      "('Shubham Koli', 2, 'Rose cupcakes', 12354685)\n",
      "('Vinita Mahajan', 3, 'Irish coffee macarons', 12354545)\n",
      "('Vitthal Patil', 4, 'Braided Easter bread', 12554685)\n",
      "('Prity Patel', 5, 'peanut butter chocolate cookies', 12574498)\n",
      "('Aarati Sinde', 6, 'Quick apple cake', 4258498)\n",
      "('Yash Jagatap', 7, 'American apple pie', 4234258498)\n",
      "('Dhanush Patil', 8, 'Blueberry muffins', 8745933254)\n"
     ]
    }
   ],
   "source": [
    "# Connect to the SQLite database\n",
    "conn = sqlite3.connect('bakery.db')\n",
    "\n",
    "# Create a cursor object to execute SQL commands\n",
    "cursor = conn.cursor()\n",
    "\n",
    "# Execute a SELECT query to fetch all data from the \"users\" table\n",
    "cursor.execute('SELECT * FROM system_users')\n",
    "\n",
    "# Fetch all the rows\n",
    "rows = cursor.fetchall()\n",
    "\n",
    "# Print the data\n",
    "for row in rows:\n",
    "    print(row)"
   ]
  },
  {
   "cell_type": "markdown",
   "id": "e7ed03dc",
   "metadata": {},
   "source": [
    "# Python Bakery Management System With Pandas"
   ]
  },
  {
   "cell_type": "code",
   "execution_count": 11,
   "id": "c24174e6",
   "metadata": {},
   "outputs": [
    {
     "name": "stdout",
     "output_type": "stream",
     "text": [
      "   Id               Name                         Order                Email  Mobile Num        Date      Time\n",
      "0   1        Rahul Patil  Raspberry chocolate cupcakes                       7385545685  17/12/2023  13:22:52\n",
      "1   2       Shubham Koli                 Rose cupcakes   koli7845@gmail.com  7845662285  17/12/2023  13:22:52\n",
      "2   3       Aarati Sinde         Irish coffee macarons  sindeaart@gmail.com  7845662285  17/12/2023  13:22:52\n",
      "3   4    Yashwant Jagtap          Braided Easter bread     yashj4@gmail.com  7845662285  17/12/2023  13:22:52\n",
      "4   5     Sunil Baviskar            American apple pie      sunba@gmail.com  7845662285  17/12/2023  13:22:52\n",
      "5   6  Priyanka Saindane             Blueberry muffins   priyasi2@gmail.com  7845662289  17/12/2023  13:22:52\n"
     ]
    }
   ],
   "source": [
    "import pandas as pd \n",
    "from datetime import datetime\n",
    "\n",
    "# Create a Pandas DataFrame to store the bakery data\n",
    "bakery_data = pd.DataFrame(columns=['Id','Name', \"Order\", 'Email', 'Mobile Num', 'Date', 'Time'])\n",
    "\n",
    "# Get current date time \n",
    "now = datetime.now()\n",
    "date = now.strftime(\"%d/%m/%Y\")\n",
    "time = now.strftime(\"%H:%M:%S\")\n",
    "\n",
    "# Function to add a new customer to the bakery data\n",
    "def add_customer(Id, Name, Order, Email, Mobile):\n",
    "    new_row ={'Id':Id,'Name':Name, \"Order\":Order, 'Email':Email, 'Mobile Num':Mobile, 'Date':date, 'Time':time}\n",
    "    bakery_data.loc[len(bakery_data)] = new_row\n",
    "    \n",
    "# Add new row to the dataframe for each customer\n",
    "# bakery_data.loc[0] = [1, 'Rahul Patil', 'Raspberry chocolate cupcakes',\"\" , 7385545685]\n",
    "# bakery_data.loc[1] = [2, 'Shubham Koli', 'Rose cupcakes',\"koli7845@gmail.com\" , 7845662285]\n",
    "# bakery_data.loc[2] = [3, 'Aarati Sinde', 'Irish coffee macarons',\"sindeaart@gmail.com\" , 7845662285]\n",
    "# bakery_data.loc[3] = [4, 'Yashwant Jagtap', 'Braided Easter bread',\"yashj4@gmail.com\" , 7845662285]\n",
    "# bakery_data.loc[4] = [5, 'Sunil Baviskar', 'American apple pie',\"sunba@gmail.com\" , 7845662285]\n",
    "# bakery_data.loc[5] = [6, 'Priyanka Saindane', 'Blueberry muffins',\"priyasi2@gmail.com\" , 7845662285]\n",
    "\n",
    "add_customer(1, 'Rahul Patil', 'Raspberry chocolate cupcakes',\"\" , 7385545685)\n",
    "add_customer(2, 'Shubham Koli', 'Rose cupcakes',\"koli7845@gmail.com\" , 7845662285)\n",
    "add_customer(3, 'Aarati Sinde', 'Irish coffee macarons',\"sindeaart@gmail.com\" , 7845662285)\n",
    "add_customer(4, 'Yashwant Jagtap', 'Braided Easter bread',\"yashj4@gmail.com\" , 7845662285)\n",
    "add_customer(5, 'Sunil Baviskar', 'American apple pie',\"sunba@gmail.com\" , 7845662285)\n",
    "add_customer(6, 'Priyanka Saindane', 'Blueberry muffins',\"priyasi2@gmail.com\" , 7845662289)\n",
    "\n",
    "#print Data set\n",
    "print(bakery_data)\n"
   ]
  },
  {
   "cell_type": "code",
   "execution_count": 14,
   "id": "f7f081e3",
   "metadata": {},
   "outputs": [
    {
     "name": "stdout",
     "output_type": "stream",
     "text": [
      "   Id               Name                         Order                Email  Mobile Num        Date      Time\n",
      "0   1        Rahul Patil  Raspberry chocolate cupcakes                       7385545685  17/12/2023  13:22:52\n",
      "1   2       Shubham Koli                 Rose cupcakes   koli7845@gmail.com  7845662285  17/12/2023  13:22:52\n",
      "2   3       Aarati Sinde         Irish coffee macarons  sindeaart@gmail.com  7845662285  17/12/2023  13:22:52\n",
      "3   4    Yashwant Jagtap          Braided Easter bread     yashj4@gmail.com  7845662285  17/12/2023  13:22:52\n",
      "4   5     Sunil Baviskar            American apple pie      sunba@gmail.com  7845662285  17/12/2023  13:22:52\n",
      "5   6  Priyanka Saindane             Blueberry muffins   priyasi2@gmail.com  7845662289  17/12/2023  13:22:52\n",
      "6   7     Divya Saindane             Blueberry muffins      divya@gmail.com  7845662289  17/12/2023  13:22:52\n",
      "7   8        Deva Pandit                  cake muffins       deva@gmail.com  7845673289  17/12/2023  13:22:52\n",
      "8   7     Divya Saindane             Blueberry muffins      divya@gmail.com  7845662289  17/12/2023  13:22:52\n",
      "9   8        Deva Pandit                  cake muffins       deva@gmail.com  7845673289  17/12/2023  13:22:52\n"
     ]
    }
   ],
   "source": [
    "add_customer(7, 'Divya Saindane', 'Blueberry muffins',\"divya@gmail.com\" , 7845662289)\n",
    "add_customer(8, 'Deva Pandit', 'cake muffins',\"deva@gmail.com\" , 7845673289)\n",
    "\n",
    "print(bakery_data)"
   ]
  },
  {
   "cell_type": "code",
   "execution_count": null,
   "id": "a72bed86",
   "metadata": {},
   "outputs": [],
   "source": []
  },
  {
   "cell_type": "code",
   "execution_count": null,
   "id": "56030d16",
   "metadata": {},
   "outputs": [],
   "source": []
  }
 ],
 "metadata": {
  "kernelspec": {
   "display_name": "Python 3 (ipykernel)",
   "language": "python",
   "name": "python3"
  },
  "language_info": {
   "codemirror_mode": {
    "name": "ipython",
    "version": 3
   },
   "file_extension": ".py",
   "mimetype": "text/x-python",
   "name": "python",
   "nbconvert_exporter": "python",
   "pygments_lexer": "ipython3",
   "version": "3.9.12"
  },
  "varInspector": {
   "cols": {
    "lenName": 16,
    "lenType": 16,
    "lenVar": 40
   },
   "kernels_config": {
    "python": {
     "delete_cmd_postfix": "",
     "delete_cmd_prefix": "del ",
     "library": "var_list.py",
     "varRefreshCmd": "print(var_dic_list())"
    },
    "r": {
     "delete_cmd_postfix": ") ",
     "delete_cmd_prefix": "rm(",
     "library": "var_list.r",
     "varRefreshCmd": "cat(var_dic_list()) "
    }
   },
   "types_to_exclude": [
    "module",
    "function",
    "builtin_function_or_method",
    "instance",
    "_Feature"
   ],
   "window_display": false
  }
 },
 "nbformat": 4,
 "nbformat_minor": 5
}
